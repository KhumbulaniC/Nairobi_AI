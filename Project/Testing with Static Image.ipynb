{
 "cells": [
  {
   "cell_type": "code",
   "execution_count": 1,
   "id": "9edf9653",
   "metadata": {},
   "outputs": [],
   "source": [
    "import numpy as np\n",
    "from tensorflow.keras.applications.vgg16 import preprocess_input\n",
    "from tensorflow.keras.preprocessing.image import img_to_array\n",
    "from tensorflow.keras.models import load_model\n",
    "import os\n",
    "import cv2"
   ]
  },
  {
   "cell_type": "code",
   "execution_count": null,
   "id": "7545d1ed",
   "metadata": {},
   "outputs": [],
   "source": [
    "def image_test():\n",
    "    #Bundle everything together\n",
    "    prototextpath = os.path.sep.join(['face_detector', 'deploy.prototxt'])\n",
    "    weightpath = os.path.sep.join(['face_detector', 'res10_300x300_ssd_iter_140000.caffemodel'])\n",
    "    network=cv2.dnn.readNet(prototextpath,weightpath)\n",
    "    model = load_model('model.h5')\n",
    "    image = cv2.imread('test_images/facemask.jpg')\n",
    "    h,w = image.shape[:2]\n",
    "    blob = cv2.dnn.blobFromImage(image, 1.0, (300,300), (104.0, 177.0, 123.0))\n",
    "    network.setInput(blob)\n",
    "    detection = network.forward()\n",
    "    for i in range(0,detection.shape[2]):\n",
    "        confidence = detection[0,0,i,2]\n",
    "        if confidence > 0.5:\n",
    "            #Get the X and Y coordinates\n",
    "            box=detection[0,0,i,3:7]*np.array([h,w,h,w])\n",
    "            (startx, starty, endx, endy) = box.astype('int')\n",
    "\n",
    "            #Ensure the bounding boxes fall within the dimensions of the frame\n",
    "            startx, starty = (max(0,startx), max(0,starty))\n",
    "            endx, endy = (min(w-1,endx), min(h-1, endy))\n",
    "\n",
    "            #Extract the ROI of the image, convert it to RGB and resize it to 350x350 and preprocess it\n",
    "            face = image[starty:endy, startx:endx]\n",
    "            face = cv2.cvtColor(face, cv2.COLOR_BGR2RGB)\n",
    "            face = cv2.resize(face, (350,350))\n",
    "            face = img_to_array(face)\n",
    "            face = preprocess_input(face)\n",
    "            face = np.expand_dims(face, axis=0)\n",
    "\n",
    "            with_mask, without_mask = model.predict(face)[0]\n",
    "\n",
    "            #determine the bounding box and label color\n",
    "            label = 'Mask' if with_mask > without_mask else 'No mask'\n",
    "            color = (0,255,0) if label =='Mask' else (0,0,255) \n",
    "\n",
    "            #include probability in the label\n",
    "            label = '{} : {:.1f}%'.format(label, max(with_mask, without_mask)*100)\n",
    "\n",
    "            #Display the label and bounding boxes\n",
    "            cv2.putText(image, label, (startx,starty-10),cv2.FONT_HERSHEY_SIMPLEX,0.45,color,2)\n",
    "            cv2.rectangle(image,(startx,starty), (endx,endy), color, 2)\n",
    "    return cv2.imshow('Prediction',image)\n",
    "        \n",
    "image_test()\n",
    "cv2.waitKey(0)\n",
    "cv2.destroyAllWindows()"
   ]
  },
  {
   "cell_type": "code",
   "execution_count": null,
   "id": "54443e35",
   "metadata": {},
   "outputs": [],
   "source": []
  }
 ],
 "metadata": {
  "kernelspec": {
   "display_name": "Python 3",
   "language": "python",
   "name": "python3"
  },
  "language_info": {
   "codemirror_mode": {
    "name": "ipython",
    "version": 3
   },
   "file_extension": ".py",
   "mimetype": "text/x-python",
   "name": "python",
   "nbconvert_exporter": "python",
   "pygments_lexer": "ipython3",
   "version": "3.9.7"
  }
 },
 "nbformat": 4,
 "nbformat_minor": 5
}
